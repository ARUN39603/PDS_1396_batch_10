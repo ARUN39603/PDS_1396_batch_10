{
  "nbformat": 4,
  "nbformat_minor": 0,
  "metadata": {
    "colab": {
      "provenance": [],
      "authorship_tag": "ABX9TyNeEbE6bmzO3tf1/YpGRN8e",
      "include_colab_link": true
    },
    "kernelspec": {
      "name": "python3",
      "display_name": "Python 3"
    },
    "language_info": {
      "name": "python"
    }
  },
  "cells": [
    {
      "cell_type": "markdown",
      "metadata": {
        "id": "view-in-github",
        "colab_type": "text"
      },
      "source": [
        "<a href=\"https://colab.research.google.com/github/ARUN39603/PDS_1396_batch_10/blob/main/lab1.ipynb\" target=\"_parent\"><img src=\"https://colab.research.google.com/assets/colab-badge.svg\" alt=\"Open In Colab\"/></a>"
      ]
    },
    {
      "cell_type": "code",
      "execution_count": null,
      "metadata": {
        "colab": {
          "base_uri": "https://localhost:8080/"
        },
        "id": "CkeYEoWV7lwb",
        "outputId": "4dcf2ce9-6421-4f96-9829-d85fd2e6bb8c"
      },
      "outputs": [
        {
          "output_type": "stream",
          "name": "stdout",
          "text": [
            "Enter a number (≤ 10): 2\n",
            "\n",
            "Tracing factorial(2):\n",
            "\n",
            "→ factorial(2) called\n",
            "   → factorial(1) called\n",
            "     Base case reached: factorial(1) = 1\n",
            "← Returning 2 from factorial(2)\n",
            "\n",
            "Final Result: factorial(2) = 2\n"
          ]
        }
      ],
      "source": [
        "def factorial(n, depth=0):\n",
        "    indent = \"   \" * depth\n",
        "    print(f\"{indent}→ factorial({n}) called\")\n",
        "\n",
        "    if n == 0 or n == 1:\n",
        "        print(f\"{indent}  Base case reached: factorial({n}) = 1\")\n",
        "        return 1\n",
        "    else:\n",
        "        result = n * factorial(n - 1, depth + 1)\n",
        "        print(f\"{indent}← Returning {result} from factorial({n})\")\n",
        "        return result\n",
        "\n",
        "\n",
        "try:\n",
        "    num = int(input(\"Enter a number (≤ 10): \"))\n",
        "    if num < 0 or num > 10:\n",
        "        print(\"Please enter a number between 0 and 10\")\n",
        "    else:\n",
        "        print(f\"\\nTracing factorial({num}):\\n\")\n",
        "        answer = factorial(num)\n",
        "        print(f\"\\nFinal Result: factorial({num}) = {answer}\")\n",
        "except ValueError:\n",
        "    print(\"Invalid input! Please enter an integer.\")"
      ]
    },
    {
      "cell_type": "code",
      "source": [
        "import time\n",
        "import sys\n",
        "import pandas as pd\n",
        "\n",
        "def factorial_recursive(n):\n",
        "    if n == 0 or n == 1:\n",
        "        return 1\n",
        "    return n * factorial_recursive(n - 1)\n",
        "\n",
        "def factorial_iterative(n):\n",
        "    result = 1\n",
        "    for i in range(2, n + 1):\n",
        "        result *= i\n",
        "    return result\n",
        "\n",
        "def measure_performance(func, n):\n",
        "    start = time.time()\n",
        "    result = func(n)\n",
        "    end = time.time()\n",
        "    exec_time = (end - start) * 1000\n",
        "    memory = sys.getsizeof(result)\n",
        "    return result, exec_time, memory\n",
        "\n",
        "try:\n",
        "    num = int(input(\"Enter a number (≤ 1000 recommended): \"))\n",
        "    if num < 0:\n",
        "        print(\"Please enter a non-negative integer.\")\n",
        "    else:\n",
        "        print(f\"\\nCalculating factorial({num}) using recursion and iteration...\\n\")\n",
        "\n",
        "        rec_result, rec_time, rec_mem = measure_performance(factorial_recursive, num)\n",
        "        iter_result, iter_time, iter_mem = measure_performance(factorial_iterative, num)\n",
        "\n",
        "        print(\"Recursive Result:\", rec_result)\n",
        "        print(\"Iterative Result:\", iter_result)\n",
        "\n",
        "        data = {\n",
        "            \"Approach\": [\"Recursive\", \"Iterative\"],\n",
        "            \"Execution Time (ms)\": [rec_time, iter_time],\n",
        "            \"Memory Usage (bytes)\": [rec_mem, iter_mem],\n",
        "            \"Time Complexity\": [\"O(n)\", \"O(n)\"],\n",
        "            \"Space Complexity\": [\"O(n) (call stack)\", \"O(1)\"]\n",
        "        }\n",
        "        df = pd.DataFrame(data)\n",
        "        print(\"\\nComparison Table:\\n\")\n",
        "        print(df.to_string(index=False))\n",
        "\n",
        "except ValueError:\n",
        "    print(\"Invalid input! Please enter an integer.\")"
      ],
      "metadata": {
        "colab": {
          "base_uri": "https://localhost:8080/"
        },
        "id": "Z4kpqEX9-C50",
        "outputId": "6970d7d3-93ef-4202-d43d-0d2f06a829d4"
      },
      "execution_count": null,
      "outputs": [
        {
          "output_type": "stream",
          "name": "stdout",
          "text": [
            "Enter a number (≤ 1000 recommended): 500\n",
            "\n",
            "Calculating factorial(500) using recursion and iteration...\n",
            "\n",
            "Recursive Result: 1220136825991110068701238785423046926253574342803192842192413588385845373153881997605496447502203281863013616477148203584163378722078177200480785205159329285477907571939330603772960859086270429174547882424912726344305670173270769461062802310452644218878789465754777149863494367781037644274033827365397471386477878495438489595537537990423241061271326984327745715546309977202781014561081188373709531016356324432987029563896628911658974769572087926928871281780070265174507768410719624390394322536422605234945850129918571501248706961568141625359056693423813008856249246891564126775654481886506593847951775360894005745238940335798476363944905313062323749066445048824665075946735862074637925184200459369692981022263971952597190945217823331756934581508552332820762820023402626907898342451712006207714640979456116127629145951237229913340169552363850942885592018727433795173014586357570828355780158735432768888680120399882384702151467605445407663535984174430480128938313896881639487469658817504506926365338175055478128640000000000000000000000000000000000000000000000000000000000000000000000000000000000000000000000000000000000000000000000000000\n",
            "Iterative Result: 1220136825991110068701238785423046926253574342803192842192413588385845373153881997605496447502203281863013616477148203584163378722078177200480785205159329285477907571939330603772960859086270429174547882424912726344305670173270769461062802310452644218878789465754777149863494367781037644274033827365397471386477878495438489595537537990423241061271326984327745715546309977202781014561081188373709531016356324432987029563896628911658974769572087926928871281780070265174507768410719624390394322536422605234945850129918571501248706961568141625359056693423813008856249246891564126775654481886506593847951775360894005745238940335798476363944905313062323749066445048824665075946735862074637925184200459369692981022263971952597190945217823331756934581508552332820762820023402626907898342451712006207714640979456116127629145951237229913340169552363850942885592018727433795173014586357570828355780158735432768888680120399882384702151467605445407663535984174430480128938313896881639487469658817504506926365338175055478128640000000000000000000000000000000000000000000000000000000000000000000000000000000000000000000000000000000000000000000000000000\n",
            "\n",
            "Comparison Table:\n",
            "\n",
            " Approach  Execution Time (ms)  Memory Usage (bytes) Time Complexity  Space Complexity\n",
            "Recursive             0.221968                   528            O(n) O(n) (call stack)\n",
            "Iterative             0.073195                   528            O(n)              O(1)\n"
          ]
        }
      ]
    },
    {
      "cell_type": "code",
      "source": [],
      "metadata": {
        "id": "Ig4Dmk4n-C2c"
      },
      "execution_count": null,
      "outputs": []
    }
  ]
}